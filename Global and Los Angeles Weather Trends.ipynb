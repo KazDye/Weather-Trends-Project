{
 "cells": [
  {
   "cell_type": "markdown",
   "metadata": {},
   "source": [
    "# Global and Los Angeles Weather Trends"
   ]
  },
  {
   "cell_type": "markdown",
   "metadata": {},
   "source": [
    "This notebook uses historical temperarture data to compare global weather trends and Los Angeles weather trends. I utilized the available data set as follows:\n",
    "- Cleaned and Exported Data Sets to CSV\n",
    "    - Reviewed SQL Database to determine data to export\n",
    "    - Exported Los Angeles Temperature CSV Data from SQL Database\n",
    "    - Exported Global Temperarture CSV Data from SQL Database\n",
    "- Imported Data as Pandas Dataframes\n",
    "    - Imported and Converted global.csv to Pandas Dataframe\n",
    "    - Calculated Moving Average and Concatenated Column to global_df\n",
    "    - Imported and Converted losangeles.csv to Pandas Dataframe\n",
    "    - Calculated Moving Average and Concatenated Column to la_df\n",
    "- Plotted Data with MatPlotLib\n",
    "    - Plotted Global Temperature Change\n",
    "    - Plotted Los Angeles Temperature Change\n",
    "    - Plotted Global Temperature Change Since 1849\n",
    "    - Plotted Los Angeles and Global Temperature Change\n",
    "- Documented observations from Line Charts"
   ]
  },
  {
   "cell_type": "markdown",
   "metadata": {},
   "source": [
    "## Cleaning and Exporting the Data Set"
   ]
  },
  {
   "cell_type": "markdown",
   "metadata": {},
   "source": [
    "The data used for this topic came from following three tables:\n",
    "\n",
    "- `global_data`\n",
    "    - Contains the average global temperature for each recorded year\n",
    "    \n",
    "- `city_list`\n",
    "    - Contains a list of cities of countries\n",
    "    \n",
    "- `city_data`\n",
    "    - Contains the average city temperature for each recorded year"
   ]
  },
  {
   "cell_type": "markdown",
   "metadata": {},
   "source": [
    "The global_data table contained only two columns, _year_ and _avg_temp_. As a result I used a simple query (listed below) to pull all the columns from this table as both columns are needed to calculate the moving change over time. I exported this table as the csv file: global.csv.<br>\n",
    "\n",
    "\n",
    "```\n",
    "select *\n",
    "from global_data\n",
    "```"
   ]
  },
  {
   "cell_type": "markdown",
   "metadata": {},
   "source": [
    "The city_list contained the foreign key _city_ to the city_data table. I used the following query to determine if Los Angeles was a unique city name in this data set.<br>\n",
    "\n",
    "\n",
    "```\n",
    "select year, avg_temp\n",
    "from city_list\n",
    "where city = 'Los Angeles'\n",
    "```"
   ]
  },
  {
   "cell_type": "markdown",
   "metadata": {},
   "source": [
    "The data returned from the city_list query confirmed that Los Angeles was not unique, appearing as a city in both the United States and Chile. As a result I ensured that the query for city_data specified the country, United States, as well as the city, Los Angeles, in order to only pull the data I needed.<br>\n",
    "\n",
    "However, while I specified the city and country in the where clause of my query, I only selected the _year_ and _avg_temp_ columns in my select statement as the _city_ and _country_ columns are not necessary for my data set. The below query was used to pull city_data as the csv file: losangeles.csv.<br>\n",
    "\n",
    "```\n",
    "select year, avg_temp\n",
    "from city_data\n",
    "where city = 'Los Angeles' and country = 'United States'\n",
    "```"
   ]
  },
  {
   "cell_type": "markdown",
   "metadata": {},
   "source": [
    "## Import Data as Pandas Dataframes"
   ]
  },
  {
   "cell_type": "code",
   "execution_count": 3,
   "metadata": {},
   "outputs": [],
   "source": [
    "import pandas as pd"
   ]
  },
  {
   "cell_type": "code",
   "execution_count": 4,
   "metadata": {
    "scrolled": true
   },
   "outputs": [
    {
     "data": {
      "text/html": [
       "<div>\n",
       "<style scoped>\n",
       "    .dataframe tbody tr th:only-of-type {\n",
       "        vertical-align: middle;\n",
       "    }\n",
       "\n",
       "    .dataframe tbody tr th {\n",
       "        vertical-align: top;\n",
       "    }\n",
       "\n",
       "    .dataframe thead th {\n",
       "        text-align: right;\n",
       "    }\n",
       "</style>\n",
       "<table border=\"1\" class=\"dataframe\">\n",
       "  <thead>\n",
       "    <tr style=\"text-align: right;\">\n",
       "      <th></th>\n",
       "      <th>year</th>\n",
       "      <th>avg_temp</th>\n",
       "    </tr>\n",
       "  </thead>\n",
       "  <tbody>\n",
       "    <tr>\n",
       "      <th>0</th>\n",
       "      <td>1750</td>\n",
       "      <td>8.72</td>\n",
       "    </tr>\n",
       "    <tr>\n",
       "      <th>1</th>\n",
       "      <td>1751</td>\n",
       "      <td>7.98</td>\n",
       "    </tr>\n",
       "    <tr>\n",
       "      <th>2</th>\n",
       "      <td>1752</td>\n",
       "      <td>5.78</td>\n",
       "    </tr>\n",
       "    <tr>\n",
       "      <th>3</th>\n",
       "      <td>1753</td>\n",
       "      <td>8.39</td>\n",
       "    </tr>\n",
       "    <tr>\n",
       "      <th>4</th>\n",
       "      <td>1754</td>\n",
       "      <td>8.47</td>\n",
       "    </tr>\n",
       "  </tbody>\n",
       "</table>\n",
       "</div>"
      ],
      "text/plain": [
       "   year  avg_temp\n",
       "0  1750      8.72\n",
       "1  1751      7.98\n",
       "2  1752      5.78\n",
       "3  1753      8.39\n",
       "4  1754      8.47"
      ]
     },
     "execution_count": 4,
     "metadata": {},
     "output_type": "execute_result"
    }
   ],
   "source": [
    "# Create pandas dataframe for the global.csv file\n",
    "# Display the first five rows of the dataframe.\n",
    "global_df = pd.read_csv (r'global.csv')\n",
    "global_df.head()"
   ]
  },
  {
   "cell_type": "code",
   "execution_count": 5,
   "metadata": {
    "scrolled": true
   },
   "outputs": [
    {
     "data": {
      "text/html": [
       "<div>\n",
       "<style scoped>\n",
       "    .dataframe tbody tr th:only-of-type {\n",
       "        vertical-align: middle;\n",
       "    }\n",
       "\n",
       "    .dataframe tbody tr th {\n",
       "        vertical-align: top;\n",
       "    }\n",
       "\n",
       "    .dataframe thead th {\n",
       "        text-align: right;\n",
       "    }\n",
       "</style>\n",
       "<table border=\"1\" class=\"dataframe\">\n",
       "  <thead>\n",
       "    <tr style=\"text-align: right;\">\n",
       "      <th></th>\n",
       "      <th>year</th>\n",
       "      <th>avg_temp</th>\n",
       "    </tr>\n",
       "  </thead>\n",
       "  <tbody>\n",
       "    <tr>\n",
       "      <th>0</th>\n",
       "      <td>1849</td>\n",
       "      <td>15.71</td>\n",
       "    </tr>\n",
       "    <tr>\n",
       "      <th>1</th>\n",
       "      <td>1850</td>\n",
       "      <td>15.28</td>\n",
       "    </tr>\n",
       "    <tr>\n",
       "      <th>2</th>\n",
       "      <td>1851</td>\n",
       "      <td>15.53</td>\n",
       "    </tr>\n",
       "    <tr>\n",
       "      <th>3</th>\n",
       "      <td>1852</td>\n",
       "      <td>15.61</td>\n",
       "    </tr>\n",
       "    <tr>\n",
       "      <th>4</th>\n",
       "      <td>1853</td>\n",
       "      <td>16.27</td>\n",
       "    </tr>\n",
       "  </tbody>\n",
       "</table>\n",
       "</div>"
      ],
      "text/plain": [
       "   year  avg_temp\n",
       "0  1849     15.71\n",
       "1  1850     15.28\n",
       "2  1851     15.53\n",
       "3  1852     15.61\n",
       "4  1853     16.27"
      ]
     },
     "execution_count": 5,
     "metadata": {},
     "output_type": "execute_result"
    }
   ],
   "source": [
    "# Create pandas dataframe for the losangeles.csv file\n",
    "# Display the first five rows of the dataframe.\n",
    "la_df = pd.read_csv (r'losangeles.csv')\n",
    "la_df.head()"
   ]
  },
  {
   "cell_type": "markdown",
   "metadata": {},
   "source": [
    "## Computing Moving Average\n",
    "- Concatenate to DataFrame: `https://www.datacamp.com/community/tutorials/moving-averages-in-pandas`"
   ]
  },
  {
   "cell_type": "code",
   "execution_count": 6,
   "metadata": {},
   "outputs": [],
   "source": [
    "from typing import List\n",
    "\n",
    "def compute_moving_avg(temps: List) -> List:\n",
    "    '''Computes moving average over a list of values with window size of 2'''\n",
    "    mov_avg = []\n",
    "    for idx, val in enumerate(temps):\n",
    "        if idx == 0:\n",
    "            avg = val\n",
    "        else:\n",
    "            avg = (val + temps[idx-1])/2\n",
    "        mov_avg.append(avg)\n",
    "    return mov_avg"
   ]
  },
  {
   "cell_type": "code",
   "execution_count": 7,
   "metadata": {},
   "outputs": [],
   "source": [
    "# add moving average to global_df\n",
    "global_df['mov_avg'] = compute_moving_avg(global_df.avg_temp)"
   ]
  },
  {
   "cell_type": "code",
   "execution_count": 8,
   "metadata": {},
   "outputs": [
    {
     "data": {
      "text/html": [
       "<div>\n",
       "<style scoped>\n",
       "    .dataframe tbody tr th:only-of-type {\n",
       "        vertical-align: middle;\n",
       "    }\n",
       "\n",
       "    .dataframe tbody tr th {\n",
       "        vertical-align: top;\n",
       "    }\n",
       "\n",
       "    .dataframe thead th {\n",
       "        text-align: right;\n",
       "    }\n",
       "</style>\n",
       "<table border=\"1\" class=\"dataframe\">\n",
       "  <thead>\n",
       "    <tr style=\"text-align: right;\">\n",
       "      <th></th>\n",
       "      <th>year</th>\n",
       "      <th>avg_temp</th>\n",
       "      <th>mov_avg</th>\n",
       "    </tr>\n",
       "  </thead>\n",
       "  <tbody>\n",
       "    <tr>\n",
       "      <th>0</th>\n",
       "      <td>1750</td>\n",
       "      <td>8.72</td>\n",
       "      <td>8.720</td>\n",
       "    </tr>\n",
       "    <tr>\n",
       "      <th>1</th>\n",
       "      <td>1751</td>\n",
       "      <td>7.98</td>\n",
       "      <td>8.350</td>\n",
       "    </tr>\n",
       "    <tr>\n",
       "      <th>2</th>\n",
       "      <td>1752</td>\n",
       "      <td>5.78</td>\n",
       "      <td>6.880</td>\n",
       "    </tr>\n",
       "    <tr>\n",
       "      <th>3</th>\n",
       "      <td>1753</td>\n",
       "      <td>8.39</td>\n",
       "      <td>7.085</td>\n",
       "    </tr>\n",
       "    <tr>\n",
       "      <th>4</th>\n",
       "      <td>1754</td>\n",
       "      <td>8.47</td>\n",
       "      <td>8.430</td>\n",
       "    </tr>\n",
       "  </tbody>\n",
       "</table>\n",
       "</div>"
      ],
      "text/plain": [
       "   year  avg_temp  mov_avg\n",
       "0  1750      8.72    8.720\n",
       "1  1751      7.98    8.350\n",
       "2  1752      5.78    6.880\n",
       "3  1753      8.39    7.085\n",
       "4  1754      8.47    8.430"
      ]
     },
     "execution_count": 8,
     "metadata": {},
     "output_type": "execute_result"
    }
   ],
   "source": [
    "global_df.head()"
   ]
  },
  {
   "cell_type": "code",
   "execution_count": 9,
   "metadata": {
    "scrolled": true
   },
   "outputs": [],
   "source": [
    "# add moving_average to la_df\n",
    "la_df['mov_avg'] = compute_moving_avg(la_df.avg_temp)"
   ]
  },
  {
   "cell_type": "code",
   "execution_count": 10,
   "metadata": {},
   "outputs": [
    {
     "data": {
      "text/html": [
       "<div>\n",
       "<style scoped>\n",
       "    .dataframe tbody tr th:only-of-type {\n",
       "        vertical-align: middle;\n",
       "    }\n",
       "\n",
       "    .dataframe tbody tr th {\n",
       "        vertical-align: top;\n",
       "    }\n",
       "\n",
       "    .dataframe thead th {\n",
       "        text-align: right;\n",
       "    }\n",
       "</style>\n",
       "<table border=\"1\" class=\"dataframe\">\n",
       "  <thead>\n",
       "    <tr style=\"text-align: right;\">\n",
       "      <th></th>\n",
       "      <th>year</th>\n",
       "      <th>avg_temp</th>\n",
       "      <th>mov_avg</th>\n",
       "    </tr>\n",
       "  </thead>\n",
       "  <tbody>\n",
       "    <tr>\n",
       "      <th>0</th>\n",
       "      <td>1849</td>\n",
       "      <td>15.71</td>\n",
       "      <td>15.710</td>\n",
       "    </tr>\n",
       "    <tr>\n",
       "      <th>1</th>\n",
       "      <td>1850</td>\n",
       "      <td>15.28</td>\n",
       "      <td>15.495</td>\n",
       "    </tr>\n",
       "    <tr>\n",
       "      <th>2</th>\n",
       "      <td>1851</td>\n",
       "      <td>15.53</td>\n",
       "      <td>15.405</td>\n",
       "    </tr>\n",
       "    <tr>\n",
       "      <th>3</th>\n",
       "      <td>1852</td>\n",
       "      <td>15.61</td>\n",
       "      <td>15.570</td>\n",
       "    </tr>\n",
       "    <tr>\n",
       "      <th>4</th>\n",
       "      <td>1853</td>\n",
       "      <td>16.27</td>\n",
       "      <td>15.940</td>\n",
       "    </tr>\n",
       "  </tbody>\n",
       "</table>\n",
       "</div>"
      ],
      "text/plain": [
       "   year  avg_temp  mov_avg\n",
       "0  1849     15.71   15.710\n",
       "1  1850     15.28   15.495\n",
       "2  1851     15.53   15.405\n",
       "3  1852     15.61   15.570\n",
       "4  1853     16.27   15.940"
      ]
     },
     "execution_count": 10,
     "metadata": {},
     "output_type": "execute_result"
    }
   ],
   "source": [
    "la_df.head()"
   ]
  },
  {
   "cell_type": "markdown",
   "metadata": {},
   "source": [
    "## Plot Data Sets with Matplotlib\n",
    "- Label axes: `jonathansoma.com/lede/data-studio/matplotlib/labeling-your-axes-in-pandas-and-matplotlib/`"
   ]
  },
  {
   "cell_type": "code",
   "execution_count": 11,
   "metadata": {},
   "outputs": [],
   "source": [
    "import matplotlib.pyplot as plt"
   ]
  },
  {
   "cell_type": "code",
   "execution_count": 12,
   "metadata": {},
   "outputs": [],
   "source": [
    "def graph_mov_avg(df: pd.DataFrame, title: str) -> None:\n",
    "    # Define and title graph to display\n",
    "    # Set x and y coordinates from pandas dataframe\n"
   ]
  },
  {
   "cell_type": "code",
   "execution_count": 13,
   "metadata": {},
   "outputs": [
    {
     "data": {
      "image/png": "[encoded data removed]",
      "text/plain": [
       "<Figure size 432x288 with 1 Axes>"
      ]
     },
     "metadata": {},
     "output_type": "display_data"
    }
   ],
   "source": [
    "graph_mov_avg(df=global_df, title='Global Temperature Change')"
   ]
  },
  {
   "cell_type": "code",
   "execution_count": 14,
   "metadata": {},
   "outputs": [
    {
     "data": {
      "image/png": "[encoded data removed]",
      "text/plain": [
       "<Figure size 432x288 with 1 Axes>"
      ]
     },
     "metadata": {},
     "output_type": "display_data"
    }
   ],
   "source": [
    "graph_mov_avg(df=la_df, title='Los Angeles Temperature Change')"
   ]
  },
  {
   "cell_type": "markdown",
   "metadata": {},
   "source": [
    "## Plot on Same Graph\n",
    "- Merge Dataframes: `https://chrisalbon.com/python/data_wrangling/pandas_join_merge_dataframe/`\n",
    "- Rename Columns: `https://pandas.pydata.org/pandas-docs/stable/reference/api/pandas.DataFrame.rename.html`\n",
    "- Drop Columns: `https://pandas.pydata.org/pandas-docs/stable/reference/api/pandas.DataFrame.drop.html`\n",
    "- Plot Multiple Lines: `https://stackoverflow.com/questions/29233283/plotting-multiple-lines-with-pandas-dataframe`"
   ]
  },
  {
   "cell_type": "code",
   "execution_count": 23,
   "metadata": {},
   "outputs": [],
   "source": [
    "# combine the two dfs into a single df\n",
    "combined_df = pd.merge(global_df, la_df, on='year', how='outer')"
   ]
  },
  {
   "cell_type": "code",
   "execution_count": 24,
   "metadata": {},
   "outputs": [],
   "source": [
    "# rename merged columns\n",
    "combined_df = combined_df.rename(columns={'avg_temp_x': 'global_avg_temp', 'mov_avg_x': 'global_mov_avg', \n",
    "                                          'avg_temp_y': 'LA_avg_temp', 'mov_avg_y': 'LA_mov_avg'})"
   ]
  },
  {
   "cell_type": "code",
   "execution_count": 25,
   "metadata": {},
   "outputs": [],
   "source": [
    "# subset df to years and mov_avg columns\n",
    "combined_df = combined_df[['year', 'global_mov_avg', 'LA_mov_avg']]"
   ]
  },
  {
   "cell_type": "code",
   "execution_count": 26,
   "metadata": {},
   "outputs": [],
   "source": [
    "#rename columns one more time for graphing\n",
    "combined_df = combined_df.rename(columns={'year':'Year', 'global_mov_avg': 'Global', 'LA_mov_avg':'LA'})"
   ]
  },
  {
   "cell_type": "code",
   "execution_count": 28,
   "metadata": {},
   "outputs": [],
   "source": [
    "# for plotting, move year to index and drop column\n",
    "combined_df.index = combined_df['Year']\n",
    "combined_df = combined_df.drop(columns=['Year'])"
   ]
  },
  {
   "cell_type": "code",
   "execution_count": 43,
   "metadata": {
    "scrolled": true
   },
   "outputs": [
    {
     "data": {
      "text/plain": [
       "Text(0,0.5,'Average Temperature Celsius')"
      ]
     },
     "execution_count": 43,
     "metadata": {},
     "output_type": "execute_result"
    },
    {
     "data": {
      "image/png": "[encoded data removed]",
      "text/plain": [
       "<Figure size 432x288 with 1 Axes>"
      ]
     },
     "metadata": {},
     "output_type": "display_data"
    }
   ],
   "source": [
    "# plot df\n",
    "gla_df = combined_df.plot(title = 'Global and Los Angeles Temperarture Change')\n",
    "gla_df.set_ylabel(\"Average Temperature Celsius\")"
   ]
  },
  {
   "cell_type": "markdown",
   "metadata": {},
   "source": [
    "## Observations"
   ]
  },
  {
   "cell_type": "markdown",
   "metadata": {},
   "source": [
    "Based on the line charts plotted from the Global and Los Angeles data sets above the following conclusions can be drawn:</b>\n",
    "\n",
    "1. From 1849 on, Los Angeles temperature changes were much more volatile from year to year than global temperature changes during the same period. \n",
    "1. The global temperature from 1750 to 1849 had more extreme shifts in temperature than any point for both the Los Angeles and global data set after 1849. \n",
    "1. The average Los Angeles temperarture is almost twice the average Global temperature with Los Angeles temperatures ranging between 15 to 17 degrees as opposed to 7 to 9.5 degrees for Global temperatures. \n",
    "1. Both the Los Angeles and global temperatures are increasing on an upward trend. \n",
    "1. Since 1849, Los Angeles is much more prone to downward shifts in temperature than global temperature is.\n",
    "1. The global data set appears to have a stronger positive correlation between the increasing temperature rate and increasing years than the Los Angeles data set.</b>"
   ]
  },
  {
   "cell_type": "markdown",
   "metadata": {},
   "source": [
    "\n",
    "\n",
    "More in-depth discussion about the above observations:\n",
    "\n",
    "- The Global data set has a little over 100 years of additional temperature data than the Los Angeles data set (1750-1849 and 2014-2015). From 1750 to 1849, the global temperature was much more prone to downward shifts in temperature than any subsequent year. During this period before 1849, the moving average temperature shifted up and down in excess of 1 degree celius in seven different years. In comparison, of the years after 1849 the moving average temperature never shifted more than 1 degree celcius and only reached a shift close to 1 degree a single time. It is apparent from the data that the more extreme shifts in Global temperature from 1750 to 1849 do not occur in later years. Instead, there is a clear positive correlation years past and increasing global temperature.</b>\n",
    "\n",
    "- Compared to the Global data set from 1849 to 2015, the Los Angeles data set appears to have a much higher variance in temperature shifts during this period. The Los Angeles average temperature shifts by about 1 degree celsius between six different years and the rate of change seems to be much higher from year to year than the global temperature. While the global temperature gradually trends upward, the Los Angeles temperature spikes up and down, increasing in a much more volatile way. It is clear that Los Angeles temperature is also on an upward trend, but with a much weaker correlation in increasing temperature to years past than the global data set.</b>\n",
    "\n",
    "- The Global data set has a much lower average temperature than the Los Angeles data set. While the range of temperature for the global data set spans from 7 to 9.5 degrees celsius, the Los Angeles range is almost double that, spanning from 15 to 17 degrees. Despite the extreme temperature disparity, the global temperature actually appears to increase more than the Los Angeles temperature by 1.5 degrees celsius compared to a little under 1 degree respectively.</b> "
   ]
  }
 ],
 "metadata": {
  "kernelspec": {
   "display_name": "Python 3",
   "language": "python",
   "name": "python3"
  },
  "language_info": {
   "codemirror_mode": {
    "name": "ipython",
    "version": 3
   },
   "file_extension": ".py",
   "mimetype": "text/x-python",
   "name": "python",
   "nbconvert_exporter": "python",
   "pygments_lexer": "ipython3",
   "version": "3.6.8"
  }
 },
 "nbformat": 4,
 "nbformat_minor": 2
}
